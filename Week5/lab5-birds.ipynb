{
 "cells": [
  {
   "cell_type": "markdown",
   "metadata": {},
   "source": [
    "# Lab 5: Species Distribution Modeling with Bagging \n",
    "\n",
    "Authoer: Haylee Oyler\n",
    "\n",
    "Climate change and deforestation are accelerating ecosystem degradation, pushing animal species toward the brink of extinction. Understanding the distribution of animals and the factors that influence their ability to thrive in different environments is critical for conservation efforts. By studying these relationships, biological conservationists can develop informed strategies to protect endangered species and maintain biodiversity across diverse ecosystems.\n",
    "\n",
    "Species are defined by their behavioral, physiological, and ecological attributes, which shape their roles in ecosystems. In turn, ecosystems and their functions are deeply influenced by the species that inhabit them. This reciprocal relationship makes evaluating species' functional diversity and distributions essential for research in biogeography, community ecology, macroevolution, and conservation. Functional diversity is determined by traits such as diet, foraging strata, trophic level, activity cycle, litter size, generation length, habitat breadth, and body mass. These traits influence an animal’s ability to survive and adapt to different climates, playing a crucial role in ecosystem stability.\n",
    "\n",
    "In this lab, we will explore the connections between animal behaviors, functional traits, and species distributions across different climates."
   ]
  },
  {
   "cell_type": "code",
   "execution_count": 1,
   "metadata": {
    "tags": []
   },
   "outputs": [],
   "source": [
    "import pandas as pd\n",
    "import matplotlib.pyplot as plt\n",
    "import seaborn as sns\n",
    "from sklearn.ensemble import BaggingClassifier\n",
    "from sklearn.model_selection import train_test_split\n",
    "from sklearn.metrics import accuracy_score, roc_curve, auc\n",
    "from sklearn.preprocessing import StandardScaler, LabelEncoder\n",
    "from sklearn.inspection import permutation_importance\n",
    "from sklearn.utils import resample\n",
    "\n",
    "pd.set_option('display.max_columns', None)\n"
   ]
  },
  {
   "cell_type": "markdown",
   "metadata": {},
   "source": [
    "### Step 1: Standardizing column names\n",
    "\n",
    "The dataset contains several columns that describe different aspects of bird diets. These column names currently include spaces, colons (:), and special characters, which can make them difficult to work with in code.\n",
    "\n",
    "Load the dataset (BirdTraitData.csv) into a Pandas DataFrame.\n",
    "\n",
    "The 7 column names that start with \"Diet:\" should be renamed to simpler version starting with `Diet_` in a way that conforms with this list of key variables:\n",
    "\n",
    "`AdultBodyMass`, `DietBreadth`, `Diet_Invertebrates`, `Diet_Vertebrates`,`Diet_Fruits`, `Diet_Flowers`, `Diet_Seeds`, `Diet_Plants`, `Diet_Other`, `TrophicLevel`,`ActivityCycle`, `ForagingStratum`, `MigratoryStatus`,`IncubationTime`, `ClutchSize`, `EggLength`, `EggWidth`,`EggMass`, `NestingHabit`,`MaxLongevity`, `Subarid`\n",
    "\n",
    "Then select only that list of 21 key variables. **Print the head of your dataframe.** "
   ]
  },
  {
   "cell_type": "code",
   "execution_count": 2,
   "metadata": {
    "tags": []
   },
   "outputs": [],
   "source": [
    "# Read in csv\n",
    "birds = pd.read_csv('BirdTraitData.csv', encoding='unicode_escape', na_values=-999)\n",
    "# birds = pd.read_csv('~/../../courses/EDS232/Data/BirdTraitData.csv ', encoding='unicode_escape', na_values=-999)"
   ]
  },
  {
   "cell_type": "code",
   "execution_count": 3,
   "metadata": {},
   "outputs": [
    {
     "data": {
      "text/html": [
       "<div>\n",
       "<style scoped>\n",
       "    .dataframe tbody tr th:only-of-type {\n",
       "        vertical-align: middle;\n",
       "    }\n",
       "\n",
       "    .dataframe tbody tr th {\n",
       "        vertical-align: top;\n",
       "    }\n",
       "\n",
       "    .dataframe thead th {\n",
       "        text-align: right;\n",
       "    }\n",
       "</style>\n",
       "<table border=\"1\" class=\"dataframe\">\n",
       "  <thead>\n",
       "    <tr style=\"text-align: right;\">\n",
       "      <th></th>\n",
       "      <th>AdultBodyMass</th>\n",
       "      <th>DietBreadth</th>\n",
       "      <th>Diet_Invertebrates</th>\n",
       "      <th>Diet_Vertebrates</th>\n",
       "      <th>Diet_Fruits</th>\n",
       "      <th>Diet_Flowers</th>\n",
       "      <th>Diet_Seeds</th>\n",
       "      <th>Diet_Plants</th>\n",
       "      <th>Diet_Other</th>\n",
       "      <th>TrophicLevel</th>\n",
       "      <th>ActivityCycle</th>\n",
       "      <th>ForagingStratum</th>\n",
       "      <th>MigratoryStatus</th>\n",
       "      <th>IncubationTime</th>\n",
       "      <th>ClutchSize</th>\n",
       "      <th>EggLength</th>\n",
       "      <th>EggWidth</th>\n",
       "      <th>EggMass</th>\n",
       "      <th>NestingHabit</th>\n",
       "      <th>MaxLongevity</th>\n",
       "      <th>Subarid</th>\n",
       "    </tr>\n",
       "  </thead>\n",
       "  <tbody>\n",
       "    <tr>\n",
       "      <th>0</th>\n",
       "      <td>138.5</td>\n",
       "      <td>2.0</td>\n",
       "      <td>yes</td>\n",
       "      <td>yes</td>\n",
       "      <td>no</td>\n",
       "      <td>no</td>\n",
       "      <td>no</td>\n",
       "      <td>no</td>\n",
       "      <td>no</td>\n",
       "      <td>3.0</td>\n",
       "      <td>3.0</td>\n",
       "      <td>3.0</td>\n",
       "      <td>no</td>\n",
       "      <td>31.0</td>\n",
       "      <td>3.0</td>\n",
       "      <td>3.85</td>\n",
       "      <td>NaN</td>\n",
       "      <td>NaN</td>\n",
       "      <td>arboreal</td>\n",
       "      <td>NaN</td>\n",
       "      <td>1</td>\n",
       "    </tr>\n",
       "    <tr>\n",
       "      <th>1</th>\n",
       "      <td>1050.0</td>\n",
       "      <td>1.0</td>\n",
       "      <td>no</td>\n",
       "      <td>yes</td>\n",
       "      <td>no</td>\n",
       "      <td>no</td>\n",
       "      <td>no</td>\n",
       "      <td>no</td>\n",
       "      <td>no</td>\n",
       "      <td>3.0</td>\n",
       "      <td>2.0</td>\n",
       "      <td>3.0</td>\n",
       "      <td>no</td>\n",
       "      <td>39.5</td>\n",
       "      <td>2.5</td>\n",
       "      <td>58.50</td>\n",
       "      <td>46.95</td>\n",
       "      <td>NaN</td>\n",
       "      <td>arboreal</td>\n",
       "      <td>NaN</td>\n",
       "      <td>1</td>\n",
       "    </tr>\n",
       "    <tr>\n",
       "      <th>2</th>\n",
       "      <td>181.0</td>\n",
       "      <td>2.0</td>\n",
       "      <td>yes</td>\n",
       "      <td>yes</td>\n",
       "      <td>no</td>\n",
       "      <td>no</td>\n",
       "      <td>no</td>\n",
       "      <td>no</td>\n",
       "      <td>no</td>\n",
       "      <td>3.0</td>\n",
       "      <td>3.0</td>\n",
       "      <td>3.0</td>\n",
       "      <td>no</td>\n",
       "      <td>35.0</td>\n",
       "      <td>2.5</td>\n",
       "      <td>38.35</td>\n",
       "      <td>31.90</td>\n",
       "      <td>NaN</td>\n",
       "      <td>arboreal</td>\n",
       "      <td>NaN</td>\n",
       "      <td>1</td>\n",
       "    </tr>\n",
       "    <tr>\n",
       "      <th>3</th>\n",
       "      <td>292.0</td>\n",
       "      <td>2.0</td>\n",
       "      <td>yes</td>\n",
       "      <td>yes</td>\n",
       "      <td>no</td>\n",
       "      <td>no</td>\n",
       "      <td>no</td>\n",
       "      <td>no</td>\n",
       "      <td>no</td>\n",
       "      <td>3.0</td>\n",
       "      <td>3.0</td>\n",
       "      <td>3.0</td>\n",
       "      <td>no</td>\n",
       "      <td>31.0</td>\n",
       "      <td>1.5</td>\n",
       "      <td>43.70</td>\n",
       "      <td>35.20</td>\n",
       "      <td>29.1</td>\n",
       "      <td>arboreal</td>\n",
       "      <td>NaN</td>\n",
       "      <td>1</td>\n",
       "    </tr>\n",
       "    <tr>\n",
       "      <th>4</th>\n",
       "      <td>511.0</td>\n",
       "      <td>2.0</td>\n",
       "      <td>yes</td>\n",
       "      <td>yes</td>\n",
       "      <td>no</td>\n",
       "      <td>no</td>\n",
       "      <td>no</td>\n",
       "      <td>no</td>\n",
       "      <td>no</td>\n",
       "      <td>3.0</td>\n",
       "      <td>3.0</td>\n",
       "      <td>4.0</td>\n",
       "      <td>no</td>\n",
       "      <td>35.5</td>\n",
       "      <td>2.0</td>\n",
       "      <td>54.50</td>\n",
       "      <td>45.00</td>\n",
       "      <td>NaN</td>\n",
       "      <td>arboreal</td>\n",
       "      <td>144.0</td>\n",
       "      <td>1</td>\n",
       "    </tr>\n",
       "  </tbody>\n",
       "</table>\n",
       "</div>"
      ],
      "text/plain": [
       "   AdultBodyMass  DietBreadth Diet_Invertebrates Diet_Vertebrates Diet_Fruits  \\\n",
       "0          138.5          2.0                yes              yes          no   \n",
       "1         1050.0          1.0                 no              yes          no   \n",
       "2          181.0          2.0                yes              yes          no   \n",
       "3          292.0          2.0                yes              yes          no   \n",
       "4          511.0          2.0                yes              yes          no   \n",
       "\n",
       "  Diet_Flowers Diet_Seeds Diet_Plants Diet_Other  TrophicLevel  ActivityCycle  \\\n",
       "0           no         no          no         no           3.0            3.0   \n",
       "1           no         no          no         no           3.0            2.0   \n",
       "2           no         no          no         no           3.0            3.0   \n",
       "3           no         no          no         no           3.0            3.0   \n",
       "4           no         no          no         no           3.0            3.0   \n",
       "\n",
       "   ForagingStratum MigratoryStatus  IncubationTime  ClutchSize  EggLength  \\\n",
       "0              3.0              no            31.0         3.0       3.85   \n",
       "1              3.0              no            39.5         2.5      58.50   \n",
       "2              3.0              no            35.0         2.5      38.35   \n",
       "3              3.0              no            31.0         1.5      43.70   \n",
       "4              4.0              no            35.5         2.0      54.50   \n",
       "\n",
       "   EggWidth  EggMass NestingHabit  MaxLongevity  Subarid  \n",
       "0       NaN      NaN     arboreal           NaN        1  \n",
       "1     46.95      NaN     arboreal           NaN        1  \n",
       "2     31.90      NaN     arboreal           NaN        1  \n",
       "3     35.20     29.1     arboreal           NaN        1  \n",
       "4     45.00      NaN     arboreal         144.0        1  "
      ]
     },
     "execution_count": 3,
     "metadata": {},
     "output_type": "execute_result"
    }
   ],
   "source": [
    "# Remove unnecessary characters\n",
    "birds.columns = birds.columns.str.replace(': ', '_')\n",
    "\n",
    "# Rename columns\n",
    "birds = birds.rename(columns={\n",
    "    'Diet_invertebrates': 'Diet_Invertebrates', \n",
    "    'Diet_vertebrates': 'Diet_Vertebrates',\n",
    "    'Diet_fruits' : 'Diet_Fruits', \n",
    "    'Diet_flower/nectar/pollen/gums' : 'Diet_Flowers', \n",
    "    'Diet_other plant materials' : 'Diet_Plants',  \n",
    "    'Diet_scavenge; garbage; carrion; offal; carcasses' : \n",
    "    'Diet_Other', 'Diet_seeds' : 'Diet_Seeds'})\n",
    "\n",
    "# Filter to selected columns\n",
    "birds = birds[['AdultBodyMass', 'DietBreadth', 'Diet_Invertebrates', 'Diet_Vertebrates','Diet_Fruits', 'Diet_Flowers', 'Diet_Seeds', 'Diet_Plants', 'Diet_Other', 'TrophicLevel','ActivityCycle', 'ForagingStratum', 'MigratoryStatus','IncubationTime', 'ClutchSize', 'EggLength', 'EggWidth','EggMass', 'NestingHabit','MaxLongevity', 'Subarid']]\n",
    "\n",
    "birds.head()\n"
   ]
  },
  {
   "cell_type": "markdown",
   "metadata": {},
   "source": [
    "### Step 2: Encode categorical variables\n",
    "In our dataset, some columns contain categorical (non-numeric) data, such as species names or habitat types that need to be converted to numerical representations. Let's use label encoding to assign a unique number to each category in a column.\n",
    "\n",
    "Encode the data using this process:\n",
    "1. Find all categorical columns in df using `.select_dtypes(include=['object'])`\n",
    "2. Loop through each categorical column and apply `LabelEncoder()`\n",
    "3. Replace the original categorical columns with their encoded values.\n",
    "4. Print the head of your dataframe to ensure that labels were in fact encoded. "
   ]
  },
  {
   "cell_type": "code",
   "execution_count": 4,
   "metadata": {},
   "outputs": [
    {
     "data": {
      "text/html": [
       "<div>\n",
       "<style scoped>\n",
       "    .dataframe tbody tr th:only-of-type {\n",
       "        vertical-align: middle;\n",
       "    }\n",
       "\n",
       "    .dataframe tbody tr th {\n",
       "        vertical-align: top;\n",
       "    }\n",
       "\n",
       "    .dataframe thead th {\n",
       "        text-align: right;\n",
       "    }\n",
       "</style>\n",
       "<table border=\"1\" class=\"dataframe\">\n",
       "  <thead>\n",
       "    <tr style=\"text-align: right;\">\n",
       "      <th></th>\n",
       "      <th>AdultBodyMass</th>\n",
       "      <th>DietBreadth</th>\n",
       "      <th>Diet_Invertebrates</th>\n",
       "      <th>Diet_Vertebrates</th>\n",
       "      <th>Diet_Fruits</th>\n",
       "      <th>Diet_Flowers</th>\n",
       "      <th>Diet_Seeds</th>\n",
       "      <th>Diet_Plants</th>\n",
       "      <th>Diet_Other</th>\n",
       "      <th>TrophicLevel</th>\n",
       "      <th>ActivityCycle</th>\n",
       "      <th>ForagingStratum</th>\n",
       "      <th>MigratoryStatus</th>\n",
       "      <th>IncubationTime</th>\n",
       "      <th>ClutchSize</th>\n",
       "      <th>EggLength</th>\n",
       "      <th>EggWidth</th>\n",
       "      <th>EggMass</th>\n",
       "      <th>NestingHabit</th>\n",
       "      <th>MaxLongevity</th>\n",
       "      <th>Subarid</th>\n",
       "    </tr>\n",
       "  </thead>\n",
       "  <tbody>\n",
       "    <tr>\n",
       "      <th>0</th>\n",
       "      <td>138.5</td>\n",
       "      <td>2.0</td>\n",
       "      <td>1</td>\n",
       "      <td>1</td>\n",
       "      <td>0</td>\n",
       "      <td>0</td>\n",
       "      <td>0</td>\n",
       "      <td>0</td>\n",
       "      <td>0</td>\n",
       "      <td>3.0</td>\n",
       "      <td>3.0</td>\n",
       "      <td>3.0</td>\n",
       "      <td>0</td>\n",
       "      <td>31.0</td>\n",
       "      <td>3.0</td>\n",
       "      <td>3.85</td>\n",
       "      <td>NaN</td>\n",
       "      <td>NaN</td>\n",
       "      <td>1</td>\n",
       "      <td>NaN</td>\n",
       "      <td>1</td>\n",
       "    </tr>\n",
       "    <tr>\n",
       "      <th>1</th>\n",
       "      <td>1050.0</td>\n",
       "      <td>1.0</td>\n",
       "      <td>0</td>\n",
       "      <td>1</td>\n",
       "      <td>0</td>\n",
       "      <td>0</td>\n",
       "      <td>0</td>\n",
       "      <td>0</td>\n",
       "      <td>0</td>\n",
       "      <td>3.0</td>\n",
       "      <td>2.0</td>\n",
       "      <td>3.0</td>\n",
       "      <td>0</td>\n",
       "      <td>39.5</td>\n",
       "      <td>2.5</td>\n",
       "      <td>58.50</td>\n",
       "      <td>46.95</td>\n",
       "      <td>NaN</td>\n",
       "      <td>1</td>\n",
       "      <td>NaN</td>\n",
       "      <td>1</td>\n",
       "    </tr>\n",
       "    <tr>\n",
       "      <th>2</th>\n",
       "      <td>181.0</td>\n",
       "      <td>2.0</td>\n",
       "      <td>1</td>\n",
       "      <td>1</td>\n",
       "      <td>0</td>\n",
       "      <td>0</td>\n",
       "      <td>0</td>\n",
       "      <td>0</td>\n",
       "      <td>0</td>\n",
       "      <td>3.0</td>\n",
       "      <td>3.0</td>\n",
       "      <td>3.0</td>\n",
       "      <td>0</td>\n",
       "      <td>35.0</td>\n",
       "      <td>2.5</td>\n",
       "      <td>38.35</td>\n",
       "      <td>31.90</td>\n",
       "      <td>NaN</td>\n",
       "      <td>1</td>\n",
       "      <td>NaN</td>\n",
       "      <td>1</td>\n",
       "    </tr>\n",
       "    <tr>\n",
       "      <th>3</th>\n",
       "      <td>292.0</td>\n",
       "      <td>2.0</td>\n",
       "      <td>1</td>\n",
       "      <td>1</td>\n",
       "      <td>0</td>\n",
       "      <td>0</td>\n",
       "      <td>0</td>\n",
       "      <td>0</td>\n",
       "      <td>0</td>\n",
       "      <td>3.0</td>\n",
       "      <td>3.0</td>\n",
       "      <td>3.0</td>\n",
       "      <td>0</td>\n",
       "      <td>31.0</td>\n",
       "      <td>1.5</td>\n",
       "      <td>43.70</td>\n",
       "      <td>35.20</td>\n",
       "      <td>29.1</td>\n",
       "      <td>1</td>\n",
       "      <td>NaN</td>\n",
       "      <td>1</td>\n",
       "    </tr>\n",
       "    <tr>\n",
       "      <th>4</th>\n",
       "      <td>511.0</td>\n",
       "      <td>2.0</td>\n",
       "      <td>1</td>\n",
       "      <td>1</td>\n",
       "      <td>0</td>\n",
       "      <td>0</td>\n",
       "      <td>0</td>\n",
       "      <td>0</td>\n",
       "      <td>0</td>\n",
       "      <td>3.0</td>\n",
       "      <td>3.0</td>\n",
       "      <td>4.0</td>\n",
       "      <td>0</td>\n",
       "      <td>35.5</td>\n",
       "      <td>2.0</td>\n",
       "      <td>54.50</td>\n",
       "      <td>45.00</td>\n",
       "      <td>NaN</td>\n",
       "      <td>1</td>\n",
       "      <td>144.0</td>\n",
       "      <td>1</td>\n",
       "    </tr>\n",
       "  </tbody>\n",
       "</table>\n",
       "</div>"
      ],
      "text/plain": [
       "   AdultBodyMass  DietBreadth  Diet_Invertebrates  Diet_Vertebrates  \\\n",
       "0          138.5          2.0                   1                 1   \n",
       "1         1050.0          1.0                   0                 1   \n",
       "2          181.0          2.0                   1                 1   \n",
       "3          292.0          2.0                   1                 1   \n",
       "4          511.0          2.0                   1                 1   \n",
       "\n",
       "   Diet_Fruits  Diet_Flowers  Diet_Seeds  Diet_Plants  Diet_Other  \\\n",
       "0            0             0           0            0           0   \n",
       "1            0             0           0            0           0   \n",
       "2            0             0           0            0           0   \n",
       "3            0             0           0            0           0   \n",
       "4            0             0           0            0           0   \n",
       "\n",
       "   TrophicLevel  ActivityCycle  ForagingStratum  MigratoryStatus  \\\n",
       "0           3.0            3.0              3.0                0   \n",
       "1           3.0            2.0              3.0                0   \n",
       "2           3.0            3.0              3.0                0   \n",
       "3           3.0            3.0              3.0                0   \n",
       "4           3.0            3.0              4.0                0   \n",
       "\n",
       "   IncubationTime  ClutchSize  EggLength  EggWidth  EggMass  NestingHabit  \\\n",
       "0            31.0         3.0       3.85       NaN      NaN             1   \n",
       "1            39.5         2.5      58.50     46.95      NaN             1   \n",
       "2            35.0         2.5      38.35     31.90      NaN             1   \n",
       "3            31.0         1.5      43.70     35.20     29.1             1   \n",
       "4            35.5         2.0      54.50     45.00      NaN             1   \n",
       "\n",
       "   MaxLongevity  Subarid  \n",
       "0           NaN        1  \n",
       "1           NaN        1  \n",
       "2           NaN        1  \n",
       "3           NaN        1  \n",
       "4         144.0        1  "
      ]
     },
     "execution_count": 4,
     "metadata": {},
     "output_type": "execute_result"
    }
   ],
   "source": [
    "# Find categorical columns\n",
    "cat_cols = birds.select_dtypes(include=[\"object\"]).columns\n",
    "\n",
    "# Loop through cat columns and encode numerically \n",
    "for col in cat_cols:\n",
    "    label_encoder = LabelEncoder()\n",
    "    birds[col] = label_encoder.fit_transform(birds[col])\n",
    "    \n",
    "birds.head()"
   ]
  },
  {
   "cell_type": "markdown",
   "metadata": {},
   "source": [
    "### Step 3: Defining features, splitting data, and training a bagging classifier\n",
    "Our goal for this analysis is to predict whether a given bird species is present in Subarid climate zones. \n",
    "\n",
    "1. Drop the corresponding variable from the features (X) and define it as the target (y). Then perform the train-test split with 70/30 train/test and a random state of 808.\n",
    "\n",
    "2. Initialize a bagging classifier with 100 trees, `oob_score =True`, `bootstrap = True` and `random_state = 808`.  \n",
    "\n",
    "3. Train the model."
   ]
  },
  {
   "cell_type": "code",
   "execution_count": 5,
   "metadata": {
    "tags": []
   },
   "outputs": [],
   "source": [
    "# Define features\n",
    "X = birds.drop('Subarid', axis = 1)\n",
    "y = birds['Subarid']\n",
    "\n",
    "# Split data\n",
    "X_train, X_test, y_train, y_test = train_test_split(X, y, test_size = 0.3, random_state = 808)\n",
    "\n",
    "# Scale our X data\n",
    "scaler = StandardScaler()\n",
    "X_train_scaled = scaler.fit_transform(X_train)\n",
    "X_test_scaled = scaler.transform(X_test)\n",
    "\n"
   ]
  },
  {
   "cell_type": "code",
   "execution_count": 6,
   "metadata": {},
   "outputs": [
    {
     "data": {
      "text/html": [
       "<style>#sk-container-id-1 {color: black;}#sk-container-id-1 pre{padding: 0;}#sk-container-id-1 div.sk-toggleable {background-color: white;}#sk-container-id-1 label.sk-toggleable__label {cursor: pointer;display: block;width: 100%;margin-bottom: 0;padding: 0.3em;box-sizing: border-box;text-align: center;}#sk-container-id-1 label.sk-toggleable__label-arrow:before {content: \"▸\";float: left;margin-right: 0.25em;color: #696969;}#sk-container-id-1 label.sk-toggleable__label-arrow:hover:before {color: black;}#sk-container-id-1 div.sk-estimator:hover label.sk-toggleable__label-arrow:before {color: black;}#sk-container-id-1 div.sk-toggleable__content {max-height: 0;max-width: 0;overflow: hidden;text-align: left;background-color: #f0f8ff;}#sk-container-id-1 div.sk-toggleable__content pre {margin: 0.2em;color: black;border-radius: 0.25em;background-color: #f0f8ff;}#sk-container-id-1 input.sk-toggleable__control:checked~div.sk-toggleable__content {max-height: 200px;max-width: 100%;overflow: auto;}#sk-container-id-1 input.sk-toggleable__control:checked~label.sk-toggleable__label-arrow:before {content: \"▾\";}#sk-container-id-1 div.sk-estimator input.sk-toggleable__control:checked~label.sk-toggleable__label {background-color: #d4ebff;}#sk-container-id-1 div.sk-label input.sk-toggleable__control:checked~label.sk-toggleable__label {background-color: #d4ebff;}#sk-container-id-1 input.sk-hidden--visually {border: 0;clip: rect(1px 1px 1px 1px);clip: rect(1px, 1px, 1px, 1px);height: 1px;margin: -1px;overflow: hidden;padding: 0;position: absolute;width: 1px;}#sk-container-id-1 div.sk-estimator {font-family: monospace;background-color: #f0f8ff;border: 1px dotted black;border-radius: 0.25em;box-sizing: border-box;margin-bottom: 0.5em;}#sk-container-id-1 div.sk-estimator:hover {background-color: #d4ebff;}#sk-container-id-1 div.sk-parallel-item::after {content: \"\";width: 100%;border-bottom: 1px solid gray;flex-grow: 1;}#sk-container-id-1 div.sk-label:hover label.sk-toggleable__label {background-color: #d4ebff;}#sk-container-id-1 div.sk-serial::before {content: \"\";position: absolute;border-left: 1px solid gray;box-sizing: border-box;top: 0;bottom: 0;left: 50%;z-index: 0;}#sk-container-id-1 div.sk-serial {display: flex;flex-direction: column;align-items: center;background-color: white;padding-right: 0.2em;padding-left: 0.2em;position: relative;}#sk-container-id-1 div.sk-item {position: relative;z-index: 1;}#sk-container-id-1 div.sk-parallel {display: flex;align-items: stretch;justify-content: center;background-color: white;position: relative;}#sk-container-id-1 div.sk-item::before, #sk-container-id-1 div.sk-parallel-item::before {content: \"\";position: absolute;border-left: 1px solid gray;box-sizing: border-box;top: 0;bottom: 0;left: 50%;z-index: -1;}#sk-container-id-1 div.sk-parallel-item {display: flex;flex-direction: column;z-index: 1;position: relative;background-color: white;}#sk-container-id-1 div.sk-parallel-item:first-child::after {align-self: flex-end;width: 50%;}#sk-container-id-1 div.sk-parallel-item:last-child::after {align-self: flex-start;width: 50%;}#sk-container-id-1 div.sk-parallel-item:only-child::after {width: 0;}#sk-container-id-1 div.sk-dashed-wrapped {border: 1px dashed gray;margin: 0 0.4em 0.5em 0.4em;box-sizing: border-box;padding-bottom: 0.4em;background-color: white;}#sk-container-id-1 div.sk-label label {font-family: monospace;font-weight: bold;display: inline-block;line-height: 1.2em;}#sk-container-id-1 div.sk-label-container {text-align: center;}#sk-container-id-1 div.sk-container {/* jupyter's `normalize.less` sets `[hidden] { display: none; }` but bootstrap.min.css set `[hidden] { display: none !important; }` so we also need the `!important` here to be able to override the default hidden behavior on the sphinx rendered scikit-learn.org. See: https://github.com/scikit-learn/scikit-learn/issues/21755 */display: inline-block !important;position: relative;}#sk-container-id-1 div.sk-text-repr-fallback {display: none;}</style><div id=\"sk-container-id-1\" class=\"sk-top-container\"><div class=\"sk-text-repr-fallback\"><pre>BaggingClassifier(n_estimators=100, oob_score=True, random_state=808)</pre><b>In a Jupyter environment, please rerun this cell to show the HTML representation or trust the notebook. <br />On GitHub, the HTML representation is unable to render, please try loading this page with nbviewer.org.</b></div><div class=\"sk-container\" hidden><div class=\"sk-item\"><div class=\"sk-estimator sk-toggleable\"><input class=\"sk-toggleable__control sk-hidden--visually\" id=\"sk-estimator-id-1\" type=\"checkbox\" checked><label for=\"sk-estimator-id-1\" class=\"sk-toggleable__label sk-toggleable__label-arrow\">BaggingClassifier</label><div class=\"sk-toggleable__content\"><pre>BaggingClassifier(n_estimators=100, oob_score=True, random_state=808)</pre></div></div></div></div></div>"
      ],
      "text/plain": [
       "BaggingClassifier(n_estimators=100, oob_score=True, random_state=808)"
      ]
     },
     "execution_count": 6,
     "metadata": {},
     "output_type": "execute_result"
    }
   ],
   "source": [
    "# Initialize bagging classifier\n",
    "bagging = BaggingClassifier(n_estimators = 100,\n",
    "                            bootstrap = True,\n",
    "                            oob_score = True,\n",
    "                            random_state = 808)\n",
    "\n",
    "# Train bagging model\n",
    "bagging.fit(X_train_scaled, y_train)"
   ]
  },
  {
   "cell_type": "markdown",
   "metadata": {},
   "source": [
    "### Step 4: Make predictions and evaluate the model\n",
    "\n",
    "1. Generate predictions\n",
    "- Use the trained bagging model to predict values for the test set (`X_test`).\n",
    "\n",
    "2. Calculate the Out-of-Bag (OOB) Score\n",
    "- The OOB score is an internal validation score computed using samples not included in bootstrapped subsets.\n",
    "\n",
    "3. Compute model accuracy\n",
    "- Print the OOB score and the bagging accuracy score."
   ]
  },
  {
   "cell_type": "code",
   "execution_count": 8,
   "metadata": {
    "tags": []
   },
   "outputs": [
    {
     "name": "stdout",
     "output_type": "stream",
     "text": [
      "OOB Score: 0.8817\n",
      "Accuracy Score: 0.9452\n"
     ]
    }
   ],
   "source": [
    "# Generate predictions\n",
    "bagging_pred = bagging.predict(X_test_scaled)\n",
    "\n",
    "# Calculate OOB score\n",
    "oob_score = bagging.oob_score_ \n",
    "bagging_accuracy = accuracy_score(y_test, bagging_pred)\n",
    "\n",
    "# Print results\n",
    "print(f\"OOB Score: {oob_score:.4f}\")\n",
    "print(f\"Accuracy Score: {bagging_accuracy:.4f}\")"
   ]
  },
  {
   "cell_type": "markdown",
   "metadata": {},
   "source": [
    "### Step 5: Calculate and plot ROC curve\n",
    "\n",
    "- Use `label=f\"Bagging (AUC = {roc_auc_bagging:.2f})\"` to include the AUC value in the plot."
   ]
  },
  {
   "cell_type": "code",
   "execution_count": 9,
   "metadata": {
    "tags": []
   },
   "outputs": [
    {
     "data": {
      "image/png": "[encoded data removed]",
      "text/plain": [
       "<Figure size 800x600 with 1 Axes>"
      ]
     },
     "metadata": {},
     "output_type": "display_data"
    }
   ],
   "source": [
    "# Calculate ROC Curve\n",
    "fpr, tpr, _ = roc_curve(y_test, bagging.predict_proba(X_test_scaled)[:,1])\n",
    "\n",
    "# Calculate AUC\n",
    "roc_auc_bagging = auc(fpr, tpr)\n",
    "\n",
    "# Plot ROC curve\n",
    "plt.figure(figsize = (8,6))\n",
    "plt.plot(fpr, tpr, color = 'firebrick', lw = 2, label = f'Bagging (AUC = {roc_auc_bagging:.4f})')\n",
    "plt.plot([0, 1], [0, 1], color=\"gray\", linestyle=\"--\", label=\"Random Guess\")\n",
    "plt.xlabel('False positive rate')\n",
    "plt.ylabel('True positive rate')\n",
    "plt.title('Bagged Decicion Tree Classifier ROC curve: \\nBird species presence in subarid zones')\n",
    "plt.legend()\n",
    "plt.grid(True)\n",
    "plt.show()"
   ]
  },
  {
   "cell_type": "markdown",
   "metadata": {},
   "source": [
    "Now how does the ROC curve look? How does this compare to our classification accuracy metric?  What might be going on? "
   ]
  },
  {
   "cell_type": "markdown",
   "metadata": {},
   "source": [
    "Our accuracy is high with a score of 0.91, however, our AUC isn't that impressive with a value of only 0.75. This could be caused by a class imbalance that is falsely inflating the value of our accuracy score. This illustrate's why it's important to check multiple measures of model performance. "
   ]
  },
  {
   "cell_type": "markdown",
   "metadata": {},
   "source": [
    "### Step 6: Introducing upsampling\n",
    "\n",
    "The ROC curve indicates that our model is not performing well.  This is a common issue in imbalanced datasets, where one class significantly outnumbers the other. To improve our model’s ability to correctly classify both groups, we will upsample the minority class so that both classes have equal representation in the training set.\n",
    "\n",
    "**Perform upsampling to balance the dataset**\n",
    "1. Separate the majority and minority classes:\n",
    "- Identify which class (0,1) is underrepresented (the minority class) and which is overrepresented (the majority class). \n",
    "- Separate both the `X_train` data and `y_train` data into all majority class and all minority class sets. \n",
    "2. Apply upsampling:\n",
    "- Use `resample()` to create additional synthetic samples of the minority class *with replacement* until it is the same size as the majority class data. Use a random state of 808. \n",
    "3. Combine the balanced classes:\n",
    "Merge the original majority class with the newly upsampled minority class.\n",
    "4. Shuffle the resampled dataset:\n",
    "- Randomly shuffle the data to ensure the model does not learn any unintended patterns from the order of the data. Use a random state of 808 for shuffling both the resampled X and y training data. \n",
    "5. Print the value counts for the resampled y training data to ensure that the data is balanced. \n"
   ]
  },
  {
   "cell_type": "code",
   "execution_count": 10,
   "metadata": {},
   "outputs": [
    {
     "data": {
      "text/plain": [
       "Subarid\n",
       "1    217\n",
       "0     25\n",
       "Name: count, dtype: int64"
      ]
     },
     "execution_count": 10,
     "metadata": {},
     "output_type": "execute_result"
    }
   ],
   "source": [
    "# Identify majority and minority classes\n",
    "class_counts = birds['Subarid'].value_counts()\n",
    "class_counts"
   ]
  },
  {
   "cell_type": "code",
   "execution_count": 11,
   "metadata": {
    "tags": []
   },
   "outputs": [
    {
     "name": "stdout",
     "output_type": "stream",
     "text": [
      "\n",
      "Resampled data (y train):\n",
      " Subarid\n",
      "0    159\n",
      "1    141\n",
      "Name: count, dtype: int64\n"
     ]
    }
   ],
   "source": [
    "# Separate majority and minority classes\n",
    "X_train_majority = X_train[y_train==1]\n",
    "X_train_minority = X_train[y_train==0]\n",
    "\n",
    "y_train_majority = y_train[y_train==1]\n",
    "y_train_minority = y_train[y_train==0]\n",
    "\n",
    "# Upsample the minority class\n",
    "X_train_upsampled_minority = resample(X_train_minority,\n",
    "                                     random_state = 808, \n",
    "                                     n_samples = len(X_train_majority), \n",
    "                                     replace=True)\n",
    "\n",
    "y_train_upsampled_minority = resample(y_train_minority,\n",
    "                                     random_state = 808, \n",
    "                                     n_samples = len(y_train_majority), \n",
    "                                     replace=True)\n",
    "\n",
    "# Combine majority and upsampled minority class\n",
    "X_train_upsampled = pd.concat([X_train_majority, X_train_upsampled_minority])\n",
    "y_train_upsampled = pd.concat([y_train_majority, y_train_upsampled_minority])\n",
    "\n",
    "# # Shuffle the dataset\n",
    "X_train_upsampled = resample(X_train_upsampled, random_state = 808)\n",
    "y_train_upsampled = resample(y_train_upsampled, random_state = 808)\n",
    "\n",
    "# Rescale data\n",
    "scaler = StandardScaler()\n",
    "X_train_upsampled = scaler.fit_transform(X_train_upsampled)\n",
    "X_test_scaled = scaler.fit_transform(X_test)\n",
    "\n",
    "\n",
    "# Print value counts \n",
    "print(\"\\nResampled data (y train):\\n\", y_train_upsampled.value_counts())"
   ]
  },
  {
   "cell_type": "markdown",
   "metadata": {},
   "source": [
    "### Step 7: Retrain and evaluate model using balanced data\n",
    "\n",
    "Now that we have addressed the class imbalance by upsampling the minority class, we will retrain the bagging classifier on the newly balanced dataset and evaluate its performance. This will help us determine whether handling class imbalance improves model accuracy and its ability to distinguish between classes. Create a bagging model using your balanced data. Use a random state of 808. Print the accuracy and and ROC Curve for this new model with balanced data. "
   ]
  },
  {
   "cell_type": "code",
   "execution_count": 12,
   "metadata": {
    "tags": []
   },
   "outputs": [
    {
     "name": "stdout",
     "output_type": "stream",
     "text": [
      "Out-of-Bag Score: 0.8816568047337278\n",
      "Accuracy Score: 0.6712\n"
     ]
    }
   ],
   "source": [
    "# Initialize our new model\n",
    "bagging_retrained = BaggingClassifier(n_estimators = 100,\n",
    "                                    bootstrap = True,\n",
    "                                    oob_score = True,\n",
    "                                    random_state = 808)\n",
    "\n",
    "# Fit the model\n",
    "bagging_retrained.fit(X_train_upsampled, y_train_upsampled)\n",
    "\n",
    "# Make predictions\n",
    "bagging_retrained_preds = bagging_retrained.predict(X_test_scaled)\n",
    "\n",
    "# Calculate accuracy\n",
    "accuracy_retrained = accuracy_score(y_test, bagging_retrained_preds)\n",
    "oob_score_retrained = bagging.oob_score_ \n",
    "\n",
    "print(f\"Out-of-Bag Score: {oob_score_retrained}\")\n",
    "print(f\"Accuracy Score: {accuracy_retrained:.4f}\")\n"
   ]
  },
  {
   "cell_type": "code",
   "execution_count": 13,
   "metadata": {},
   "outputs": [
    {
     "data": {
      "image/png": "[encoded data removed]",
      "text/plain": [
       "<Figure size 800x600 with 1 Axes>"
      ]
     },
     "metadata": {},
     "output_type": "display_data"
    }
   ],
   "source": [
    "\n",
    "# Calculate ROC Curve\n",
    "fpr_bal, tpr_bal, _ = roc_curve(y_test, bagging_retrained.predict_proba(X_test_scaled)[:,1])\n",
    "\n",
    "# Calculate AUC\n",
    "roc_auc_bagging_retrained = auc(fpr_bal, tpr_bal)\n",
    "\n",
    "# Plot ROC curve\n",
    "plt.figure(figsize = (8,6))\n",
    "plt.plot(fpr_bal, tpr_bal, color = 'darkorange', lw = 2, label = f'Bagging (AUC = {roc_auc_bagging_retrained:.4f})')\n",
    "plt.plot([0, 1], [0, 1], color=\"gray\", linestyle=\"--\", label=\"Random Guess\")\n",
    "plt.xlabel('False positive rate')\n",
    "plt.ylabel('True positive rate')\n",
    "plt.title('Balanced Bagging Decicion Tree Classifier ROC curve: \\nPredicting bird species presence in Subarid zones\\n')\n",
    "plt.legend()\n",
    "plt.grid(True)\n",
    "plt.show()"
   ]
  },
  {
   "cell_type": "markdown",
   "metadata": {},
   "source": [
    "How did this second model, trained on balanced data, do in comparison to the first on the accuracy and AUC metrics.  How should we interpret those results?  Did the upscaling prove useful?"
   ]
  },
  {
   "cell_type": "markdown",
   "metadata": {},
   "source": [
    "The accuracy of the second model decreased from 0.91 to 0.86, which is a fairly large drop in accuracy. However, the AUC stayed about the same at 0.75. The drop in accuracy score tells us we were successful in accounting for the class imbalance, but the constant AUC score indicates that upscaling didn't actually prove useful in fitting a better model. We saw no measurable increase in performance with the upscaling. "
   ]
  },
  {
   "cell_type": "markdown",
   "metadata": {},
   "source": [
    "### Step 8: Analyzing feature importance with permutation importance\n",
    "\n",
    "Understanding which bird traits contribute the most to our model’s predictions is crucial for interpreting results. We covered in lecture how the results of ensemble methods are harder to interpret than a single decision tree.  But we do have some tools to do it.  In this step, we will compute permutation importance, which measures the impact of each trait by shuffling its values and observing the effect on model performance. This will help us identify which functional traits—such as diet, body mass, or habitat breadth—play the biggest role in predicting whether a species is found in a subarid environment.\n",
    "\n",
    "Use `permutation_importance()` to calculate the importance values.  You'll need to pass it the model, the feature and target test data, and an n_repeats value of 10."
   ]
  },
  {
   "cell_type": "code",
   "execution_count": 14,
   "metadata": {
    "tags": []
   },
   "outputs": [
    {
     "data": {
      "text/plain": [
       "[('Diet_Other', 0.010958904109589085),\n",
       " ('MigratoryStatus', 0.008219178082191813),\n",
       " ('Diet_Seeds', 0.0),\n",
       " ('Diet_Plants', 0.0),\n",
       " ('Diet_Flowers', -0.0013698630136986245),\n",
       " ('Diet_Vertebrates', -0.0068493150684931225),\n",
       " ('AdultBodyMass', -0.008219178082191757),\n",
       " ('IncubationTime', -0.008219178082191757),\n",
       " ('MaxLongevity', -0.009589041095890382),\n",
       " ('EggWidth', -0.012328767123287654),\n",
       " ('ClutchSize', -0.013698630136986278),\n",
       " ('NestingHabit', -0.01506849315068488),\n",
       " ('ActivityCycle', -0.015068493150684915),\n",
       " ('DietBreadth', -0.017808219178082164),\n",
       " ('Diet_Invertebrates', -0.023287671232876672),\n",
       " ('Diet_Fruits', -0.024657534246575318),\n",
       " ('EggMass', -0.027397260273972556),\n",
       " ('TrophicLevel', -0.028767123287671215),\n",
       " ('EggLength', -0.031506849315068475),\n",
       " ('ForagingStratum', -0.04109589041095887)]"
      ]
     },
     "execution_count": 14,
     "metadata": {},
     "output_type": "execute_result"
    }
   ],
   "source": [
    "# Calculate permutation importance\n",
    "perm_imp = permutation_importance(bagging_retrained, X_test_scaled, y_test, n_repeats = 10, random_state = 808)\n",
    "\n",
    "# List feature importance\n",
    "# imp_df = pd.DataFrame(zip(X_test_scaled.columns, perm_imp.importances_mean), columns=['Feature', 'Importance'])\n",
    "\n",
    "feat_imp = list(zip(birds.drop('Subarid', axis=1).columns, perm_imp.importances_mean))\n",
    "sorted_list = sorted(feat_imp, key=lambda x: x[1], reverse=True)\n",
    "sorted_list\n",
    "# Print the sorted feature importance\n",
    "# print(imp_df.sort_values(by = 'Importance', ascending = False))"
   ]
  },
  {
   "cell_type": "code",
   "execution_count": 15,
   "metadata": {},
   "outputs": [
    {
     "data": {
      "text/plain": [
       "20"
      ]
     },
     "execution_count": 15,
     "metadata": {},
     "output_type": "execute_result"
    }
   ],
   "source": [
    "len(sorted_list)"
   ]
  },
  {
   "cell_type": "markdown",
   "metadata": {},
   "source": [
    "What features are most important in our model of species distribution?"
   ]
  },
  {
   "cell_type": "markdown",
   "metadata": {},
   "source": [
    "*your answer here*"
   ]
  }
 ],
 "metadata": {
  "kernelspec": {
   "display_name": "ml-env",
   "language": "python",
   "name": "python3"
  },
  "language_info": {
   "codemirror_mode": {
    "name": "ipython",
    "version": 3
   },
   "file_extension": ".py",
   "mimetype": "text/x-python",
   "name": "python",
   "nbconvert_exporter": "python",
   "pygments_lexer": "ipython3",
   "version": "3.10.16"
  }
 },
 "nbformat": 4,
 "nbformat_minor": 4
}
