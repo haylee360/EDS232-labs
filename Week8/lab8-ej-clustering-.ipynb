{
 "cells": [
  {
   "cell_type": "markdown",
   "metadata": {},
   "source": [
    "## Lab 8:  Clustering\n",
    "\n",
    "Author: Haylee Oyler\n",
    "\n",
    "Environmental justice (EJ) seeks to ensure that all communities, regardless of socioeconomic status or demographic background, have equal access to clean air, water, and, in the form of energy justice, access to renewable energy resources while minimizing exposure to environmental hazards. In this lab, we will apply clustering analysis to explore how U.S. counties group together based on renewable energy potential, demographic characteristics, and environmental risk factors.\n",
    "\n",
    "The EEIP dataset was collated by the National Renewable Energy Lab (NREL) and contains a large set of features from multiple other databases including SLOPE (renewable energy potential) and EJSCREEN (environmental risk indicators).\n",
    "\n",
    "Link to metadata: https://ucsb.box.com/s/x3olvh3rd8w5h7xz8jnm3v8g3t4ajjsg\n",
    "\n",
    "First you will step through a guided clustering exploration of renewable energy production potential.  Then you will formulate a question of your own that brings in an environmental justice component.\n"
   ]
  },
  {
   "cell_type": "markdown",
   "metadata": {},
   "source": [
    "### Step 0: Load Libraries and Data"
   ]
  },
  {
   "cell_type": "code",
   "execution_count": 34,
   "metadata": {
    "tags": []
   },
   "outputs": [],
   "source": [
    "import pandas as pd\n",
    "import numpy as np\n",
    "import matplotlib.pyplot as plt\n",
    "from sklearn.preprocessing import StandardScaler\n",
    "from scipy.cluster.hierarchy import linkage, dendrogram, fcluster\n",
    "\n",
    "# Load the EEIP dataset \n",
    "# eeip_data = pd.read_csv(\"/courses/EDS232/Data/eeip.data.csv\")\n",
    "eeip_data = pd.read_csv(\"data/eeip-data.csv\")\n",
    "\n",
    "pd.set_option('display.max_columns', None) \n",
    "pd.set_option('display.max_rows', None) \n"
   ]
  },
  {
   "cell_type": "markdown",
   "metadata": {},
   "source": [
    "## Part I:\n",
    "In this part, we will step through an analysis that examines how US counties cluster in their potential production of renewable energy.  \n",
    "\n",
    "### Step 1: Exploratory Data Analysis\n",
    "\n",
    "First we need to check for missing data and remove incomplete rows. Since clustering is a distance-based technique, we also need to ensure that the features used for clustering are scaled appropriately to prevent dominant features from skewing results.  For our first analysis, use the following variables from the SLOPE dataset related to energy production potential as your features: \n",
    "- `utility_pv_technical_generation_potential_mwh`\n",
    "- `residential_pv_technical_generation_potential_mwh`\n",
    "- `land_based_wind_technical_generation_potential_mwh`\n",
    "- `commercial_pv_technical_generation_potential_mwh`\n",
    "\n",
    "*Information on these variables is available on line 7 of the ColumnsExplained tab of the metadata*\n",
    "\n",
    "Once you have removed incomplete rows and scaled, print the shape of your processed dataframe. "
   ]
  },
  {
   "cell_type": "code",
   "execution_count": 33,
   "metadata": {},
   "outputs": [
    {
     "data": {
      "text/plain": [
       "county_fips                                              0\n",
       "county                                                   0\n",
       "state                                                    0\n",
       "county_pop                                               0\n",
       "utilitypv_techpot_quint                                  0\n",
       "utility_pv_technical_generation_potential_mwh            0\n",
       "residentialpv_techpot_quint                              1\n",
       "residential_pv_technical_generation_potential_mwh        1\n",
       "landbasedwind_techpot_quint                              0\n",
       "land_based_wind_technical_generation_potential_mwh       0\n",
       "commercialpv_techpot_quint                               1\n",
       "commercial_pv_technical_generation_potential_mwh         1\n",
       "commercialpv_lcoe_cap_quint                           3108\n",
       "commercial_pv_lcoe_capital_price_per_mw_median        3108\n",
       "commercialpv_lcoe_quint                                  1\n",
       "commercial_pv_lcoe_price_per_mwh_median                  1\n",
       "geothermal_lcoe_cap_quint                             2804\n",
       "geothermal_lcoe_capital_price_per_mw_median           2804\n",
       "geothermal_lcoe_quint                                 2804\n",
       "geothermal_lcoe_price_per_mwh_median                  2804\n",
       "hydro_lcoe_cap_quint                                    48\n",
       "hydro_lcoe_capital_price_per_mw_median                  48\n",
       "hydro_lcoe_quint                                        48\n",
       "hydro_lcoe_price_per_mwh_median                         48\n",
       "landbasedwind_lcoe_cap_quint                             6\n",
       "land_based_wind_lcoe_capital_price_per_mw_median         6\n",
       "landbasedwind_lcoe_quint                                 6\n",
       "land_based_wind_lcoe_price_per_mwh_median                6\n",
       "utilitypv_lcoe_cap_quint                                 6\n",
       "pv_lcoe_capital_price_per_mw_median                      6\n",
       "utilitypv_lcoe_quint                                     6\n",
       "pv_lcoe_price_per_mwh_median                             6\n",
       "residentialpv_lcoe_cap_quint                          3108\n",
       "residential_pv_lcoe_capital_price_per_mw_median       3108\n",
       "residentialpv_lcoe_quint                                 1\n",
       "residential_pv_lcoe_price_per_mwh_median                 1\n",
       "bev_growth_quint                                         2\n",
       "hev_growth_quint                                         2\n",
       "phev_growth_quint                                        2\n",
       "icev_growth_quint                                        2\n",
       "bev_prop_change                                          2\n",
       "hev_prop_change                                          2\n",
       "phev_prop_change                                         2\n",
       "icev_prop_change                                         2\n",
       "bev_2018_reference_vehicle_counts                        2\n",
       "bev_2050_reference_vehicle_counts                        2\n",
       "hev_gasoline_2018_reference_vehicle_counts               2\n",
       "hev_gasoline_2050_reference_vehicle_counts               2\n",
       "phev_2018_reference_vehicle_counts                       2\n",
       "phev_2050_reference_vehicle_counts                       2\n",
       "icev_gasoline_2018_reference_vehicle_counts              2\n",
       "icev_gasoline_2050_reference_vehicle_counts              2\n",
       "reopt_savings_quint                                      0\n",
       "cost_savings_per_county                                  0\n",
       "energyburden_indicator                                   1\n",
       "energyburden_1_prop                                      1\n",
       "energyburden_2_prop                                      1\n",
       "energyburden_3_prop                                      1\n",
       "energyburden_4_prop                                      1\n",
       "unemployment_quint                                       0\n",
       "unemprate2020                                            0\n",
       "mining_quint                                             0\n",
       "pctempmining                                             0\n",
       "ruralurbancontinuumcode2013                              0\n",
       "type_2015_farming_no                                     0\n",
       "type_2015_mining_no                                      0\n",
       "population_loss_2015_update                              0\n",
       "perpov_1980_0711                                         0\n",
       "minority_indicator                                       0\n",
       "minority_pop_1_prop                                      0\n",
       "minority_pop_2_prop                                      0\n",
       "minority_pop_3_prop                                      0\n",
       "minority_pop_4_prop                                      0\n",
       "minority_pop_5_prop                                      0\n",
       "lowincome_indicator                                      0\n",
       "lowincome_pop_1_prop                                     0\n",
       "lowincome_pop_2_prop                                     0\n",
       "lowincome_pop_3_prop                                     0\n",
       "lowincome_pop_4_prop                                     0\n",
       "lowincome_pop_5_prop                                     0\n",
       "lessthanhs_indicator                                     0\n",
       "lessthanhs_pop_1_prop                                    0\n",
       "lessthanhs_pop_2_prop                                    0\n",
       "lessthanhs_pop_3_prop                                    0\n",
       "lessthanhs_pop_4_prop                                    0\n",
       "lessthanhs_pop_5_prop                                    0\n",
       "pm25_indicator                                           0\n",
       "pm25_1_prop                                              0\n",
       "pm25_2_prop                                              0\n",
       "pm25_3_prop                                              0\n",
       "pm25_4_prop                                              0\n",
       "pm25_5_prop                                              0\n",
       "ozone_indicator                                          0\n",
       "ozone_1_prop                                             0\n",
       "ozone_2_prop                                             0\n",
       "ozone_3_prop                                             0\n",
       "ozone_4_prop                                             0\n",
       "ozone_5_prop                                             0\n",
       "leadpaint_indicator                                      0\n",
       "leadpaint_1_prop                                         0\n",
       "leadpaint_2_prop                                         0\n",
       "leadpaint_3_prop                                         0\n",
       "leadpaint_4_prop                                         0\n",
       "leadpaint_5_prop                                         0\n",
       "diesel_indicator                                         0\n",
       "dieselparticulate_1_prop                                 0\n",
       "dieselparticulate_2_prop                                 0\n",
       "dieselparticulate_3_prop                                 0\n",
       "dieselparticulate_4_prop                                 0\n",
       "dieselparticulate_5_prop                                 0\n",
       "cancer_indicator                                         0\n",
       "cancerriskairtoxics_1_prop                               0\n",
       "cancerriskairtoxics_2_prop                               0\n",
       "cancerriskairtoxics_3_prop                               0\n",
       "cancerriskairtoxics_4_prop                               0\n",
       "cancerriskairtoxics_5_prop                               0\n",
       "respiratory_indicator                                    0\n",
       "respiratoryhazardairtoxics_1_prop                        0\n",
       "respiratoryhazardairtoxics_2_prop                        0\n",
       "respiratoryhazardairtoxics_3_prop                        0\n",
       "respiratoryhazardairtoxics_4_prop                        0\n",
       "respiratoryhazardairtoxics_5_prop                        0\n",
       "traffic_indicator                                      138\n",
       "trafficproxvol_1_prop                                  138\n",
       "trafficproxvol_2_prop                                  138\n",
       "trafficproxvol_3_prop                                  138\n",
       "trafficproxvol_4_prop                                  138\n",
       "trafficproxvol_5_prop                                  138\n",
       "wastewater_indicator                                   219\n",
       "wastewaterdischarge_1_prop                             219\n",
       "wastewaterdischarge_2_prop                             219\n",
       "wastewaterdischarge_3_prop                             219\n",
       "wastewaterdischarge_4_prop                             219\n",
       "wastewaterdischarge_5_prop                             219\n",
       "npl_indicator                                            0\n",
       "nplprox_1_prop                                           0\n",
       "nplprox_2_prop                                           0\n",
       "nplprox_3_prop                                           0\n",
       "nplprox_4_prop                                           0\n",
       "nplprox_5_prop                                           0\n",
       "rmp_indicator                                            0\n",
       "rmpprox_1_prop                                           0\n",
       "rmpprox_2_prop                                           0\n",
       "rmpprox_3_prop                                           0\n",
       "rmpprox_4_prop                                           0\n",
       "rmpprox_5_prop                                           0\n",
       "tsdf_indicator                                           0\n",
       "tsdfprox_1_prop                                          0\n",
       "tsdfprox_2_prop                                          0\n",
       "tsdfprox_3_prop                                          0\n",
       "tsdfprox_4_prop                                          0\n",
       "tsdfprox_5_prop                                          0\n",
       "dtype: int64"
      ]
     },
     "execution_count": 33,
     "metadata": {},
     "output_type": "execute_result"
    }
   ],
   "source": [
    "# Check for missing values\n",
    "eeip_data.isna().sum()  \n"
   ]
  },
  {
   "cell_type": "code",
   "execution_count": 43,
   "metadata": {},
   "outputs": [
    {
     "data": {
      "text/plain": [
       "utility_pv_technical_generation_potential_mwh         0\n",
       "residential_pv_technical_generation_potential_mwh     1\n",
       "land_based_wind_technical_generation_potential_mwh    0\n",
       "commercial_pv_technical_generation_potential_mwh      1\n",
       "dtype: int64"
      ]
     },
     "execution_count": 43,
     "metadata": {},
     "output_type": "execute_result"
    }
   ],
   "source": [
    "eeip_data[['utility_pv_technical_generation_potential_mwh',\n",
    "                'residential_pv_technical_generation_potential_mwh','land_based_wind_technical_generation_potential_mwh','commercial_pv_technical_generation_potential_mwh']].isna().sum()"
   ]
  },
  {
   "cell_type": "code",
   "execution_count": 39,
   "metadata": {},
   "outputs": [],
   "source": [
    "\n",
    "# Drop NAs\n",
    "eeip_clean = eeip_data.dropna(axis=1)\n",
    "# Drop columns with missing values greater than 10\n",
    "# eeip_clean = eeip_data.drop(columns=eeip_data.columns[eeip_data.isna().sum() > 10])"
   ]
  },
  {
   "cell_type": "code",
   "execution_count": 42,
   "metadata": {},
   "outputs": [
    {
     "ename": "KeyError",
     "evalue": "\"['residential_pv_technical_generation_potential_mwh', 'commercial_pv_technical_generation_potential_mwh'] not in index\"",
     "output_type": "error",
     "traceback": [
      "\u001b[0;31m---------------------------------------------------------------------------\u001b[0m",
      "\u001b[0;31mKeyError\u001b[0m                                  Traceback (most recent call last)",
      "Cell \u001b[0;32mIn[42], line 2\u001b[0m\n\u001b[1;32m      1\u001b[0m \u001b[38;5;66;03m# Assign features\u001b[39;00m\n\u001b[0;32m----> 2\u001b[0m X \u001b[38;5;241m=\u001b[39m \u001b[43meeip_clean\u001b[49m\u001b[43m[\u001b[49m\u001b[43m[\u001b[49m\u001b[38;5;124;43m'\u001b[39;49m\u001b[38;5;124;43mutility_pv_technical_generation_potential_mwh\u001b[39;49m\u001b[38;5;124;43m'\u001b[39;49m\u001b[43m,\u001b[49m\n\u001b[1;32m      3\u001b[0m \u001b[43m                \u001b[49m\u001b[38;5;124;43m'\u001b[39;49m\u001b[38;5;124;43mresidential_pv_technical_generation_potential_mwh\u001b[39;49m\u001b[38;5;124;43m'\u001b[39;49m\u001b[43m,\u001b[49m\u001b[38;5;124;43m'\u001b[39;49m\u001b[38;5;124;43mland_based_wind_technical_generation_potential_mwh\u001b[39;49m\u001b[38;5;124;43m'\u001b[39;49m\u001b[43m,\u001b[49m\u001b[38;5;124;43m'\u001b[39;49m\u001b[38;5;124;43mcommercial_pv_technical_generation_potential_mwh\u001b[39;49m\u001b[38;5;124;43m'\u001b[39;49m\u001b[43m]\u001b[49m\u001b[43m]\u001b[49m\n\u001b[1;32m      5\u001b[0m \u001b[38;5;66;03m# Standardize the features\u001b[39;00m\n\u001b[1;32m      6\u001b[0m scaler \u001b[38;5;241m=\u001b[39m StandardScaler()\n",
      "File \u001b[0;32m~/opt/anaconda3/envs/ml-env/lib/python3.10/site-packages/pandas/core/frame.py:3899\u001b[0m, in \u001b[0;36mDataFrame.__getitem__\u001b[0;34m(self, key)\u001b[0m\n\u001b[1;32m   3897\u001b[0m     \u001b[38;5;28;01mif\u001b[39;00m is_iterator(key):\n\u001b[1;32m   3898\u001b[0m         key \u001b[38;5;241m=\u001b[39m \u001b[38;5;28mlist\u001b[39m(key)\n\u001b[0;32m-> 3899\u001b[0m     indexer \u001b[38;5;241m=\u001b[39m \u001b[38;5;28;43mself\u001b[39;49m\u001b[38;5;241;43m.\u001b[39;49m\u001b[43mcolumns\u001b[49m\u001b[38;5;241;43m.\u001b[39;49m\u001b[43m_get_indexer_strict\u001b[49m\u001b[43m(\u001b[49m\u001b[43mkey\u001b[49m\u001b[43m,\u001b[49m\u001b[43m \u001b[49m\u001b[38;5;124;43m\"\u001b[39;49m\u001b[38;5;124;43mcolumns\u001b[39;49m\u001b[38;5;124;43m\"\u001b[39;49m\u001b[43m)\u001b[49m[\u001b[38;5;241m1\u001b[39m]\n\u001b[1;32m   3901\u001b[0m \u001b[38;5;66;03m# take() does not accept boolean indexers\u001b[39;00m\n\u001b[1;32m   3902\u001b[0m \u001b[38;5;28;01mif\u001b[39;00m \u001b[38;5;28mgetattr\u001b[39m(indexer, \u001b[38;5;124m\"\u001b[39m\u001b[38;5;124mdtype\u001b[39m\u001b[38;5;124m\"\u001b[39m, \u001b[38;5;28;01mNone\u001b[39;00m) \u001b[38;5;241m==\u001b[39m \u001b[38;5;28mbool\u001b[39m:\n",
      "File \u001b[0;32m~/opt/anaconda3/envs/ml-env/lib/python3.10/site-packages/pandas/core/indexes/base.py:6115\u001b[0m, in \u001b[0;36mIndex._get_indexer_strict\u001b[0;34m(self, key, axis_name)\u001b[0m\n\u001b[1;32m   6112\u001b[0m \u001b[38;5;28;01melse\u001b[39;00m:\n\u001b[1;32m   6113\u001b[0m     keyarr, indexer, new_indexer \u001b[38;5;241m=\u001b[39m \u001b[38;5;28mself\u001b[39m\u001b[38;5;241m.\u001b[39m_reindex_non_unique(keyarr)\n\u001b[0;32m-> 6115\u001b[0m \u001b[38;5;28;43mself\u001b[39;49m\u001b[38;5;241;43m.\u001b[39;49m\u001b[43m_raise_if_missing\u001b[49m\u001b[43m(\u001b[49m\u001b[43mkeyarr\u001b[49m\u001b[43m,\u001b[49m\u001b[43m \u001b[49m\u001b[43mindexer\u001b[49m\u001b[43m,\u001b[49m\u001b[43m \u001b[49m\u001b[43maxis_name\u001b[49m\u001b[43m)\u001b[49m\n\u001b[1;32m   6117\u001b[0m keyarr \u001b[38;5;241m=\u001b[39m \u001b[38;5;28mself\u001b[39m\u001b[38;5;241m.\u001b[39mtake(indexer)\n\u001b[1;32m   6118\u001b[0m \u001b[38;5;28;01mif\u001b[39;00m \u001b[38;5;28misinstance\u001b[39m(key, Index):\n\u001b[1;32m   6119\u001b[0m     \u001b[38;5;66;03m# GH 42790 - Preserve name from an Index\u001b[39;00m\n",
      "File \u001b[0;32m~/opt/anaconda3/envs/ml-env/lib/python3.10/site-packages/pandas/core/indexes/base.py:6179\u001b[0m, in \u001b[0;36mIndex._raise_if_missing\u001b[0;34m(self, key, indexer, axis_name)\u001b[0m\n\u001b[1;32m   6176\u001b[0m     \u001b[38;5;28;01mraise\u001b[39;00m \u001b[38;5;167;01mKeyError\u001b[39;00m(\u001b[38;5;124mf\u001b[39m\u001b[38;5;124m\"\u001b[39m\u001b[38;5;124mNone of [\u001b[39m\u001b[38;5;132;01m{\u001b[39;00mkey\u001b[38;5;132;01m}\u001b[39;00m\u001b[38;5;124m] are in the [\u001b[39m\u001b[38;5;132;01m{\u001b[39;00maxis_name\u001b[38;5;132;01m}\u001b[39;00m\u001b[38;5;124m]\u001b[39m\u001b[38;5;124m\"\u001b[39m)\n\u001b[1;32m   6178\u001b[0m not_found \u001b[38;5;241m=\u001b[39m \u001b[38;5;28mlist\u001b[39m(ensure_index(key)[missing_mask\u001b[38;5;241m.\u001b[39mnonzero()[\u001b[38;5;241m0\u001b[39m]]\u001b[38;5;241m.\u001b[39munique())\n\u001b[0;32m-> 6179\u001b[0m \u001b[38;5;28;01mraise\u001b[39;00m \u001b[38;5;167;01mKeyError\u001b[39;00m(\u001b[38;5;124mf\u001b[39m\u001b[38;5;124m\"\u001b[39m\u001b[38;5;132;01m{\u001b[39;00mnot_found\u001b[38;5;132;01m}\u001b[39;00m\u001b[38;5;124m not in index\u001b[39m\u001b[38;5;124m\"\u001b[39m)\n",
      "\u001b[0;31mKeyError\u001b[0m: \"['residential_pv_technical_generation_potential_mwh', 'commercial_pv_technical_generation_potential_mwh'] not in index\""
     ]
    }
   ],
   "source": [
    "# Assign features\n",
    "X = eeip_clean[['utility_pv_technical_generation_potential_mwh',\n",
    "                'residential_pv_technical_generation_potential_mwh','land_based_wind_technical_generation_potential_mwh','commercial_pv_technical_generation_potential_mwh']]\n",
    "\n",
    "# Standardize the features\n",
    "scaler = StandardScaler()\n",
    "X_scaled = scaler.fit_transform(X)\n",
    "\n",
    "# Print shape of standardized data frame\n",
    "eeip_clean.shape"
   ]
  },
  {
   "cell_type": "markdown",
   "metadata": {},
   "source": [
    "### Step 2: Hierarchical Clustering Analysis\n",
    "\n",
    "Now that we have preprocessed our dataset and standardized the energy potential features, we will use hierarchical clustering to explore how counties group together based on their energy potential.\n",
    "\n",
    "A dendrogram is a tree-like visualization that shows how clusters are merged step by step. By analyzing the dendrogram, we can decide the optimal number of clusters by looking at the distance between merges.\n",
    "\n",
    "Use `linkage()` to perform the clustering.  Use 'ward' for the `method` parameter, a method which minimizes the variance within clusters, producing well-balanced groups. We will first visualize the **full dendrogram** using `dendrogram` before deciding on a truncation strategy.\n"
   ]
  },
  {
   "cell_type": "code",
   "execution_count": null,
   "metadata": {
    "tags": []
   },
   "outputs": [],
   "source": []
  },
  {
   "cell_type": "markdown",
   "metadata": {},
   "source": [
    "### Step 3: Set Up Cluster Interpretation\n",
    "\n",
    "After determining the optimal number of clusters from the dendrogram, we now assign each county to a cluster using the extracted cluster labels.\n",
    "\n",
    "To better understand the clustering results, we will:\n",
    "- Define `num_clusters` as the ideal number of clusters based on the dendrogram created above\n",
    "- Extract cluster assignment attribute from the hierarchical clustering using `fcluster()` with `criterion = \"maxclust\"`\n",
    "- Create a new variable `Cluster` in your cleaned dataframe and assign cluster labels to it\n",
    "- Compute and print the mean values of the original energy potential features for each cluster.\n",
    "\n",
    "This summary will help us interpret how counties differ in energy potential across clusters and inform possible next steps for analysis.\n"
   ]
  },
  {
   "cell_type": "code",
   "execution_count": null,
   "metadata": {
    "tags": []
   },
   "outputs": [],
   "source": []
  },
  {
   "cell_type": "markdown",
   "metadata": {},
   "source": [
    "### Step 4: Visualizing Energy Potential Across Clusters\n",
    "Now that we have assigned cluster labels, we want to understand how energy potential differs across clusters. To do this, we will visualize these differences using a grouped bar chart.\n",
    "\n",
    "Each bar should represent the mean value of an energy potential indicator for a specific cluster. These different patterns of potential is what caused the model to segregate the clusters in the way that it did."
   ]
  },
  {
   "cell_type": "code",
   "execution_count": null,
   "metadata": {
    "tags": []
   },
   "outputs": [],
   "source": []
  },
  {
   "cell_type": "markdown",
   "metadata": {},
   "source": [
    "### Step 5: Interpret Clustering Results\n",
    "Interpret your plot of the resulting clusters.  How would you characterize and compare the four different clusters in terms of their profile of energy generation?"
   ]
  },
  {
   "cell_type": "markdown",
   "metadata": {},
   "source": [
    "***Your answer here***"
   ]
  },
  {
   "cell_type": "markdown",
   "metadata": {},
   "source": [
    "## Part II: Environmental Justice Metrics\n",
    "Now it's your turn.\n",
    "\n",
    "So far, we have clustered counties based on **energy potential**, but energy potential alone does not tell the full story of **energy equity and access**. To deepen the analysis, we need to consider environmental justice (EJ) factors that affect communities’ ability to benefit from renewable energy and the environmental burdens they already experience.\n",
    "\n",
    "1. Explore EJSCREEN variables:  \n",
    "   - The EJSCREEN subset of our dataset contains metrics on pollution burden, demographics (population size), and health risks (*lines 31-41 of the ColumnsExplained tab in the metadata sheet linked above*).\n",
    "   - Identify 1-3 variables that could be important for energy equity analysis.  You could introduce them either as clustering features, as post-clustering variables to help interpret the clusters, or both. \n",
    "\n",
    "2. Modify the clustering approach:  \n",
    "   - Add your selected EJSCREEN variables to our feature set.    \n",
    "   - Re-run the hierarchical clustering analysis with the expanded dataset (if you added any as clustering features).  \n",
    "\n",
    "3. Interpret the Results:\n",
    "   Your interpretation could include considerations such as:\n",
    "   - How do clusters change when EJSCREEN variables are included?  \n",
    "   - Are counties with high renewable energy potential also burdened by environmental risks?  \n",
    "   - What policy recommendations might emerge from these findings?  "
   ]
  },
  {
   "cell_type": "code",
   "execution_count": null,
   "metadata": {},
   "outputs": [],
   "source": [
    "#Your Part 2 Code"
   ]
  },
  {
   "cell_type": "markdown",
   "metadata": {},
   "source": [
    "Which EJSCREEN variable(s) did you add to the analysis? Why did you choose these?  What is the question you are interested in? What did you learn from the analysis"
   ]
  },
  {
   "cell_type": "markdown",
   "metadata": {},
   "source": [
    "***Your answer here***"
   ]
  }
 ],
 "metadata": {
  "kernelspec": {
   "display_name": "ml-env",
   "language": "python",
   "name": "python3"
  },
  "language_info": {
   "codemirror_mode": {
    "name": "ipython",
    "version": 3
   },
   "file_extension": ".py",
   "mimetype": "text/x-python",
   "name": "python",
   "nbconvert_exporter": "python",
   "pygments_lexer": "ipython3",
   "version": "3.10.16"
  }
 },
 "nbformat": 4,
 "nbformat_minor": 4
}
