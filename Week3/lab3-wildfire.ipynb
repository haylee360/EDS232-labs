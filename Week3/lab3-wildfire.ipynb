{
 "cells": [
  {
   "cell_type": "code",
   "execution_count": 1,
   "id": "6d41e7de-5f0c-4baf-a37f-ec5dbe4f7428",
   "metadata": {
    "tags": []
   },
   "outputs": [],
   "source": [
    "# Imports\n",
    "import pandas as pd\n",
    "import numpy as np\n",
    "from sklearn.model_selection import train_test_split\n",
    "from sklearn.metrics import mean_squared_error\n",
    "from sklearn.preprocessing import StandardScaler\n",
    "from sklearn.linear_model import LogisticRegression\n",
    "from sklearn.dummy import DummyClassifier\n",
    "from sklearn.metrics import accuracy_score, confusion_matrix, classification_report, roc_curve, roc_auc_score, ConfusionMatrixDisplay\n",
    "import matplotlib.pyplot as plt\n",
    "import seaborn as sns\n"
   ]
  },
  {
   "cell_type": "markdown",
   "id": "e492775e-957c-40b4-b64f-5de93dbea5e1",
   "metadata": {},
   "source": [
    "# Lab 4: Fire and Tree Mortality\n",
    "\n",
    "Author: Haylee Oyler\n",
    "\n",
    "# About the data\n",
    "Wildfires are increasingly frequent and severe due to climate change. Predicting tree mortality following a wildfire is critical for forest management, ecosystem recovery, and carbon sequestration planning. In this lab, we will build a logistic regression model to predict the probability of tree mortality one year after a wildfire\n",
    "\n",
    "The database we'll be working with today includes observations of individual trees involved in prescribed fires and wildfires occurring over 35 years, from 1981 to 2016. It is drawn from a fire and tree mortality database from the US Forest Service (see data description for the full database here: [link](https://www.nature.com/articles/s41597-020-0522-7#Sec10)).\n",
    "\n",
    "The target variable we'll use is `yr1status`, which is a binary variable (0=alive, 1=dead).  This tells us if a tree has died one year after a fire event.\n",
    "\n",
    "The features we'll use are `YrFireName`, `Times_burned`, `Species`, `Genus_species`,\n",
    "    `DBH_cm`, `HT_m`, `CR_pre`, and `CR_post`."
   ]
  },
  {
   "cell_type": "markdown",
   "id": "ebb7cd82",
   "metadata": {},
   "source": [
    "| Feature                     | Description                                                                                   |\n",
    "|-----------------------------|-----------------------------------------------------------------------------------------------| \n",
    "| yr1status                   | Tree status in year 1 post-fire. (0=alive, 1=dead)\n",
    "| YrFireName                  | Year and name of the fire.                                    \n",
    "| Times_burned                | The number of times this tree was burned                                           \n",
    "| Species                     |  Symbol for species. First two letters of genus and first two letters of species, sometimes followed by a number                                                   \n",
    "| Genus_species               |  Genus and species of tree                                     \n",
    "| DBH_cm                      | Diameter at breast height rounded to nearest 0.1 cm (cm = centimeters). NA = not assessed.\n",
    "| HT_m                        | Pre-fire tree height rounded to nearest 0.01 m (m=meters). NA = not assessed\n",
    "| CR_pre                      | Pre-fire live crown ratio. Crown length divided by tree height (proportion rounded to nearest 0.01). NA = not assessed.\n",
    "| CR_post                     | Post-fire live crown ratio. Crown length divided by tree height (proportion rounded to nearest 0.01). NA = not assessed."
   ]
  },
  {
   "cell_type": "markdown",
   "id": "55d355a0",
   "metadata": {},
   "source": [
    "## Step 2: Fetch  data\n",
    "Read in the data set and filter to retain only the variables of interest.  Then check for incomplete observations and remove any rows containing NaNs.  How many observations does that leave us with? **Print your answer.**"
   ]
  },
  {
   "cell_type": "code",
   "execution_count": 2,
   "id": "ac926dc2",
   "metadata": {
    "tags": []
   },
   "outputs": [
    {
     "name": "stderr",
     "output_type": "stream",
     "text": [
      "/var/folders/ck/21jw_cxj7j984t_wcgbyrv200000gn/T/ipykernel_73865/4268755570.py:2: DtypeWarning: Columns (4,5,6,7,10,62,63) have mixed types. Specify dtype option on import or set low_memory=False.\n",
      "  trees_dat = pd.read_csv('data/FTM_trees.csv')\n"
     ]
    }
   ],
   "source": [
    "# Load the dataset\n",
    "trees_dat = pd.read_csv('data/FTM_trees.csv')\n"
   ]
  },
  {
   "cell_type": "code",
   "execution_count": 3,
   "id": "b738dbde",
   "metadata": {},
   "outputs": [
    {
     "data": {
      "text/plain": [
       "Index(['YrFireName', 'Times_burned', 'Species', 'Genus_species', 'DBH_cm',\n",
       "       'HT_m', 'CR_pre', 'CR_post', 'yr1status'],\n",
       "      dtype='object')"
      ]
     },
     "execution_count": 3,
     "metadata": {},
     "output_type": "execute_result"
    }
   ],
   "source": [
    "# Select desired columns for model analysis\n",
    "trees_dat = trees_dat[['YrFireName', 'Times_burned', 'Species', 'Genus_species', 'DBH_cm', 'HT_m', 'CR_pre', 'CR_post', 'yr1status']]\n",
    "trees_dat.columns"
   ]
  },
  {
   "cell_type": "code",
   "execution_count": 4,
   "id": "32b01918",
   "metadata": {},
   "outputs": [
    {
     "name": "stdout",
     "output_type": "stream",
     "text": [
      "NA Values:\n",
      "YrFireName       0\n",
      "Times_burned     0\n",
      "Species          0\n",
      "Genus_species    0\n",
      "DBH_cm           0\n",
      "HT_m             0\n",
      "CR_pre           0\n",
      "CR_post          0\n",
      "yr1status        0\n",
      "dtype: int64\n",
      "\n",
      "Number of observations: 36509\n"
     ]
    }
   ],
   "source": [
    "# Check for NAs in the df\n",
    "trees_dat.isna().sum()\n",
    "trees_dat = trees_dat.dropna()\n",
    "print(f\"NA Values:\\n{trees_dat.isna().sum()}\")\n",
    "print(f\"\\nNumber of observations: {len(trees_dat)}\")"
   ]
  },
  {
   "cell_type": "markdown",
   "id": "aaf806bf",
   "metadata": {},
   "source": [
    "## Step 3: Data Preprocessing\n",
    "1. We recode categorical predictors to zero-based integer form because most machine learning models, including logistic regression, cannot work directly with categorical data represented as strings or labels. Instead, models require numerical input. Let's do that here. \n"
   ]
  },
  {
   "cell_type": "code",
   "execution_count": 5,
   "id": "023c3c59",
   "metadata": {},
   "outputs": [
    {
     "data": {
      "text/plain": [
       "YrFireName            object\n",
       "Times_burned           int64\n",
       "Species               object\n",
       "Genus_species         object\n",
       "DBH_cm               float64\n",
       "HT_m                 float64\n",
       "CR_pre               float64\n",
       "CR_post              float64\n",
       "yr1status            float64\n",
       "YrFireName_num          int8\n",
       "Species_num             int8\n",
       "Genus_species_num       int8\n",
       "dtype: object"
      ]
     },
     "execution_count": 5,
     "metadata": {},
     "output_type": "execute_result"
    }
   ],
   "source": [
    "# Change the data type of the categorical predictors to zero-based integers\n",
    "for col in ['YrFireName', 'Species', 'Genus_species']:\n",
    "    trees_dat[f\"{col}_num\"] = trees_dat[col].astype('category').cat.codes\n",
    "\n",
    "trees_dat.dtypes"
   ]
  },
  {
   "cell_type": "markdown",
   "id": "4b326fbd",
   "metadata": {},
   "source": [
    "I chose to keep the original categorical names in case we want to examine mortality by species or genus later on. The numerically encoded values for those cateforical predictors can be found in `YrFireName_num`, `Species_num`, and `Genus_species_num`"
   ]
  },
  {
   "cell_type": "markdown",
   "id": "fdcc4673-26dc-4c09-8c9a-0f2f97abe16f",
   "metadata": {},
   "source": [
    "2. Then we'll split into training and test data and scale for coefficient interpretability.  Recall that we use the training features to calculate our scaling parameters (mean and standard deviation) and apply the scaling to those training features (`scaler.fit_transform`) and then apply the scaling to the features in the test data as well (`scaler.transform`).\n"
   ]
  },
  {
   "cell_type": "code",
   "execution_count": 6,
   "id": "54b2f9d2-f414-4bf2-b0a3-51d55f3d997a",
   "metadata": {
    "tags": []
   },
   "outputs": [],
   "source": [
    "# Assign predictors and outcomes\n",
    "X = trees_dat.drop(['Species', 'Genus_species', 'YrFireName', 'yr1status'], axis=1) # Drop outcome and categorical variables\n",
    "y = trees_dat['yr1status']\n",
    "\n",
    "# Split the data\n",
    "X_train, X_test, y_train, y_test = train_test_split(X,y, test_size=0.3, random_state=42)\n",
    "\n",
    "# Scale the data\n",
    "scaler = StandardScaler()\n",
    "X_train_scaled = scaler.fit_transform(X_train)\n",
    "X_test_scaled = scaler.transform(X_test)"
   ]
  },
  {
   "cell_type": "markdown",
   "id": "3055eca1-9c22-4266-95a0-710b43be5a8e",
   "metadata": {},
   "source": [
    "3. How many training/test observations do we have? Print your answer in the cell below. "
   ]
  },
  {
   "cell_type": "code",
   "execution_count": 7,
   "id": "fdb4803d-8680-4ede-b790-3579f4a485e7",
   "metadata": {
    "tags": []
   },
   "outputs": [
    {
     "name": "stdout",
     "output_type": "stream",
     "text": [
      "Training set observations: 25556\n",
      "Testing set observations: 10953\n"
     ]
    }
   ],
   "source": [
    "# Calculate the number of observations in train and test\n",
    "train_obs = len(X_train)\n",
    "test_obs = len(X_test)\n",
    "\n",
    "# Verify the training and testing set size\n",
    "print(\"Training set observations:\", train_obs)\n",
    "print(\"Testing set observations:\", test_obs)"
   ]
  },
  {
   "cell_type": "markdown",
   "id": "4ca8857c",
   "metadata": {},
   "source": [
    "## Step 4: Train a Logistical Model\n",
    "Create a classifier using `LogisticRegression()` and fit it on the training data.  Then assess the model's accuracy on the training set by making predictions on the training data.  Calculate and **print** the accuracy of your model on the training set. "
   ]
  },
  {
   "cell_type": "code",
   "execution_count": 8,
   "id": "578b2ca5",
   "metadata": {
    "tags": []
   },
   "outputs": [
    {
     "name": "stdout",
     "output_type": "stream",
     "text": [
      "Training Accuracy: 0.9451\n"
     ]
    }
   ],
   "source": [
    "# Fit logistic classifier\n",
    "model = LogisticRegression().fit(X_train_scaled, y_train)\n",
    "\n",
    "# Predictions using model\n",
    "y_train_pred = model.predict(X_train_scaled)\n",
    "\n",
    "# Calculate MSE and accuracy\n",
    "mse_train = mean_squared_error(y_train, y_train_pred)\n",
    "acc_train = accuracy_score(y_train, y_train_pred)\n",
    "\n",
    "print(f\"Training Accuracy: {acc_train:.4f}\")"
   ]
  },
  {
   "cell_type": "markdown",
   "id": "34d86616",
   "metadata": {},
   "source": [
    "## Step 5: Test Set Predictions and Model Evaluation\n",
    "Now let's take our trained logistic classifier and make predictions on the test set. Calculate the accuracy and confusion matrix. Then use `sns.heatmap` for improved confusion matrix visualization."
   ]
  },
  {
   "cell_type": "code",
   "execution_count": 9,
   "id": "be4e4d6c",
   "metadata": {
    "tags": []
   },
   "outputs": [
    {
     "name": "stdout",
     "output_type": "stream",
     "text": [
      "Training Accuracy: 0.9402\n",
      "\n",
      "Metrics from Confusion Matrix:\n",
      "Sensitivity (true positive rate): 0.955\n",
      "Specificity (true negative rate): 0.702\n",
      "\n",
      "True Positives (correctly predicted alive): 9838\n",
      "False Positives (Incorrectly predicted alive): 195\n",
      "True Negatives (correctly predicted dead): 460\n",
      "False Negatives (incorrectly predicted dead): 460\n"
     ]
    },
    {
     "data": {
      "image/png": "[encoded data removed]",
      "text/plain": [
       "<Figure size 640x480 with 2 Axes>"
      ]
     },
     "metadata": {},
     "output_type": "display_data"
    }
   ],
   "source": [
    "# Predictions using model\n",
    "y_test_pred = model.predict(X_test_scaled)\n",
    "\n",
    "# Calculate accuracy\n",
    "acc_test = accuracy_score(y_test, y_test_pred)\n",
    "\n",
    "print(f\"Training Accuracy: {acc_test:.4f}\")\n",
    "\n",
    "# Calculate metrics\n",
    "cm = confusion_matrix(y_test, y_test_pred)\n",
    "TN = cm[1,1]\n",
    "TP = cm[0,0]\n",
    "FP = cm[0,1]\n",
    "FN = cm[1,0]\n",
    "\n",
    "sensitivity = TP / (TP + FN) # guessed positives over total actual positives\n",
    "specificity = TN / (TN + FP)\n",
    "\n",
    "print(\"\\nMetrics from Confusion Matrix:\")\n",
    "print(f\"Sensitivity (true positive rate): {sensitivity:.3f}\")\n",
    "print(f\"Specificity (true negative rate): {specificity:.3f}\")\n",
    "print(f\"\\nTrue Positives (correctly predicted alive): {TP}\")\n",
    "print(f\"False Positives (Incorrectly predicted alive): {FP}\")\n",
    "print(f\"True Negatives (correctly predicted dead): {TN}\")\n",
    "print(f\"False Negatives (incorrectly predicted dead): {FN}\")\n",
    "\n",
    "#Plot confusion matrix \n",
    "sns.heatmap(cm, annot=True, fmt=\"d\", cmap='coolwarm',xticklabels=['Alive', 'Dead'], yticklabels=['Alive', 'Dead'])\n",
    "plt.title(\"Logistic Classifier Confusion Matrix\")\n",
    "plt.xlabel(\"Predicted Label\")\n",
    "plt.ylabel(\"True Label\")\n",
    "plt.show()"
   ]
  },
  {
   "cell_type": "markdown",
   "id": "9b5cdbbb",
   "metadata": {},
   "source": [
    "## Step 6: Logistic Classifier Evaluation\n",
    "How did your model perform on the unseen data? \n",
    "Does your model perform differently on observations of trees that survived vs trees that died?\n",
    "Is there a class imbalance in this data set?"
   ]
  },
  {
   "cell_type": "markdown",
   "id": "7c651ef7",
   "metadata": {},
   "source": [
    "The model performed well on the unseen data with an accuracy of approximately 94%. Yes, the model does perform differently on observations of trees that survived versus trees that died. Our sensitivity was 95% while our specificity was 70%. This indicates that the model performs better on alive trees (the true positives) than the dead trees (the true negatives). Additionally, there is a class imbalance in the dataset because the total number of actual alive trees and actual dead trees is not equal. There are more alive trees than dead trees in the dataset as a whole. "
   ]
  },
  {
   "cell_type": "markdown",
   "id": "c60c7e36",
   "metadata": {},
   "source": [
    "## Step 7: What about a Dummy?\n",
    "What do you think would happen if we built a model that always predicts the majority class (alive trees)? How would its accuracy compare to your logistic regression model?"
   ]
  },
  {
   "cell_type": "markdown",
   "id": "e66ba576",
   "metadata": {},
   "source": [
    "Because we have a class imbalance towards majority alive trees, a model that always predicted alive trees would still perform fairly well. I think it's accuracy would be very good, but still less than the logistic model. "
   ]
  },
  {
   "cell_type": "markdown",
   "id": "6854360d",
   "metadata": {},
   "source": [
    "Let's go ahead and do it: use `DummyClassifier()` with the appropriate value for the 'strategy' parameter to train a majority classifier.  Then calculate this model's accuracy on the training data."
   ]
  },
  {
   "cell_type": "code",
   "execution_count": 10,
   "id": "fe5b4015",
   "metadata": {
    "tags": []
   },
   "outputs": [
    {
     "name": "stdout",
     "output_type": "stream",
     "text": [
      "Dummy Accuracy: 0.9172\n",
      "\n",
      "Dummy Confusion Matrix:\n"
     ]
    },
    {
     "data": {
      "image/png": "[encoded data removed]",
      "text/plain": [
       "<Figure size 640x480 with 2 Axes>"
      ]
     },
     "metadata": {},
     "output_type": "display_data"
    }
   ],
   "source": [
    "# Train majority classifier\n",
    "dummy_classifier = DummyClassifier(strategy=\"most_frequent\")\n",
    "dummy_classifier.fit(X_train_scaled, y_train)\n",
    "\n",
    "# Predict with the training data\n",
    "dummy_train_pred = dummy_classifier.predict(X_train_scaled)\n",
    "\n",
    "# Predict with the test data\n",
    "dummy_test_pred = dummy_classifier.predict(X_test_scaled)\n",
    "\n",
    "# Calculate accuracy score\n",
    "dummay_acc = accuracy_score(y_train, dummy_train_pred)\n",
    "\n",
    "\n",
    "# Print accuracy and confusion matrix results\n",
    "print(f\"Dummy Accuracy: {dummay_acc:.4f}\")\n",
    "print(\"\\nDummy Confusion Matrix:\")\n",
    "cm = confusion_matrix(y_test, dummy_test_pred)\n",
    "sns.heatmap(cm, annot=True, fmt=\"d\", cmap='coolwarm', xticklabels=['Alive', 'Dead'], yticklabels=['Alive', 'Dead'])\n",
    "plt.title(\"Dummy Classifier Confusion Matrix\")\n",
    "plt.xlabel(\"Predicted Label\")\n",
    "plt.ylabel(\"True Label\")\n",
    "plt.show()"
   ]
  },
  {
   "cell_type": "markdown",
   "id": "e3445d23",
   "metadata": {},
   "source": [
    "# Step 8: ROCs and AUCs\n",
    "Our two models have similar accuracy, but is that all there is to this story?  Let's dig a little deeper on the comparison of our logistic and dummy classifiers by examining the associated receiver-operator characteristic (ROC) curves. Calculate the area under the curve (AUC) for both models."
   ]
  },
  {
   "cell_type": "code",
   "execution_count": 11,
   "id": "cef8515b",
   "metadata": {
    "tags": []
   },
   "outputs": [
    {
     "name": "stdout",
     "output_type": "stream",
     "text": [
      "Logistic AUC: 0.9181\n"
     ]
    }
   ],
   "source": [
    "# Logistic classifier probabilities and AUC\n",
    "y_pred_prob = model.predict_proba(X_test_scaled)[:, 1]\n",
    "roc_auc = roc_auc_score(y_test, y_pred_prob)\n",
    "\n",
    "print(f\"Logistic AUC: {roc_auc:.4f}\")"
   ]
  },
  {
   "cell_type": "code",
   "execution_count": 12,
   "id": "5180e8b8",
   "metadata": {
    "tags": []
   },
   "outputs": [
    {
     "name": "stdout",
     "output_type": "stream",
     "text": [
      "Dummy AUC: 0.500000\n"
     ]
    }
   ],
   "source": [
    "# Dummy classifier probabilities and AUC\n",
    "dummy_pred_prob = dummy_classifier.predict_proba(X_test_scaled)[:, 1]\n",
    "dummy_roc_auc = roc_auc_score(y_test, dummy_pred_prob)\n",
    "\n",
    "print(f\"Dummy AUC: {dummy_roc_auc:4f}\")"
   ]
  },
  {
   "cell_type": "markdown",
   "id": "4acd252f",
   "metadata": {},
   "source": [
    "# Step 9: Plot dummy and logistic model ROC curves\n",
    "Now using the outputs from `roc_curve()`, plot the ROC curves for both models on the same plot.  Make sure to use appropriate labels in the legend."
   ]
  },
  {
   "cell_type": "code",
   "execution_count": 13,
   "id": "03a7fe29",
   "metadata": {
    "tags": []
   },
   "outputs": [
    {
     "data": {
      "image/png": "[encoded data removed]",
      "text/plain": [
       "<Figure size 800x600 with 1 Axes>"
      ]
     },
     "metadata": {},
     "output_type": "display_data"
    }
   ],
   "source": [
    "# Generate ROC curve data for logistic and dummy classifiers\n",
    "fpr_log, tpr_log, threshold_log = roc_curve(y_test, y_pred_prob)\n",
    "fpr_dummy, tpr_dummy, threshold_dummy = roc_curve(y_test, dummy_pred_prob)\n",
    "\n",
    "# Plot both curves\n",
    "plt.figure(figsize=(8,6))\n",
    "\n",
    "# Logistic curve\n",
    "plt.plot(fpr_log, tpr_log, color='darkorange', lw=2, label=f'Logisitic ROC Curve (AUC = {roc_auc:.2f})')\n",
    "# Dummy curve\n",
    "plt.plot(fpr_dummy, tpr_dummy, color='blue', lw=2, label=f'Dummy ROC Curve (AUC = {dummy_roc_auc:.2f})')\n",
    "\n",
    "plt.title('ROC Curve: Alive Tree Presence Prediction')\n",
    "plt.ylabel('True Positive Rate')\n",
    "plt.xlabel('False Positive Rate')\n",
    "plt.legend()\n",
    "plt.grid(True)\n",
    "plt.show()\n",
    "\n"
   ]
  },
  {
   "cell_type": "markdown",
   "id": "ec104e80",
   "metadata": {},
   "source": [
    "How do the two models compare on AUC?  What are the implications for evaluating classifiers based on accuracy of their predictions?"
   ]
  },
  {
   "cell_type": "markdown",
   "id": "a4ab1a30",
   "metadata": {},
   "source": [
    "The logistic model compares significantly better than the dummy classifier. We can see that the AUC of the dummy is only 0.5 while the logistic AUC is 0.92. This tells us that it can be dangerous to only evaluate a model based on the accuracy of the predictions. More information using ROC and AUC is required to have a full understanding of classifier accuracy."
   ]
  },
  {
   "cell_type": "markdown",
   "id": "d1767d77",
   "metadata": {},
   "source": [
    "# Step 10: Final interpretation\n",
    "\n",
    "Identifying the most important features in a model can guide decision-making. For instance, in our dataset, highly important features might indicate key factors affecting tree survival after a fire. We will calculate the feature importance by examining the coefficients of our logistic regression model."
   ]
  },
  {
   "cell_type": "code",
   "execution_count": 14,
   "id": "e0a97e03",
   "metadata": {
    "tags": []
   },
   "outputs": [
    {
     "name": "stdout",
     "output_type": "stream",
     "text": [
      "                   Coefficients\n",
      "Features                       \n",
      "Times_burned           0.000000\n",
      "DBH_cm                 0.421324\n",
      "HT_m                  -1.165414\n",
      "CR_pre                 0.123414\n",
      "CR_post               -2.494974\n",
      "YrFireName_num        -0.660497\n",
      "Species_num            0.541509\n",
      "Genus_species_num     -0.067867\n"
     ]
    }
   ],
   "source": [
    "# Define coefficients and feature names\n",
    "coeffs = model.coef_[0]\n",
    "features = X.columns\n",
    "\n",
    "# Compile lists into a data frame\n",
    "importance_df = pd.DataFrame({\n",
    "    'Features': features,\n",
    "    'Coefficients': coeffs\n",
    "}).set_index('Features')\n",
    "\n",
    "# Print the sorted feature importance\n",
    "print(importance_df)\n"
   ]
  },
  {
   "cell_type": "markdown",
   "id": "55d9db5d",
   "metadata": {},
   "source": [
    "Which are the most important features in our model (reference the metadata to help answer this)? Can you think of any implications for forest management or conservation strategy? "
   ]
  },
  {
   "cell_type": "markdown",
   "id": "bd42e56c",
   "metadata": {},
   "source": [
    "The most important features in our model are height (m) and post-fire live crown ratio. These coefficients have the largest magnitude, indicating they have the most influence on tree surivial. I think the important implication here for forest management and conservation strategy is that taller trees are more likely to survive. As crown ratio is also based on the height of the tree and the amount of crown left post-fire is a strong indicator of survival, this tells us that if a tall tree's foliage is able to escape the worst of the burn by being higher up, it has a higher survivial rate. \n",
    "\n",
    "If I were a forest manager, I would try and prioritze the longevity of middle-aged trees such that they can reach their peak height faster because our models indicate that a taller tree is more likely to survive a fire. \n",
    "\n"
   ]
  }
 ],
 "metadata": {
  "kernelspec": {
   "display_name": "ml-env",
   "language": "python",
   "name": "python3"
  },
  "language_info": {
   "codemirror_mode": {
    "name": "ipython",
    "version": 3
   },
   "file_extension": ".py",
   "mimetype": "text/x-python",
   "name": "python",
   "nbconvert_exporter": "python",
   "pygments_lexer": "ipython3",
   "version": "3.10.16"
  }
 },
 "nbformat": 4,
 "nbformat_minor": 5
}
